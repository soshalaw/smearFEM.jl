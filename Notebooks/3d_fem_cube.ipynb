{
 "cells": [
  {
   "cell_type": "code",
   "execution_count": 1,
   "metadata": {},
   "outputs": [
    {
     "data": {
      "text/plain": [
       "Main.PostProcess"
      ]
     },
     "metadata": {},
     "output_type": "display_data"
    }
   ],
   "source": [
    "# using Plots\n",
    "using LinearAlgebra\n",
    "using PyPlot\n",
    "\n",
    "include(\"../smear_fem/src/fem.jl\")\n",
    "include(\"../smear_fem/src/PostProcess.jl\")"
   ]
  },
  {
   "cell_type": "code",
   "execution_count": 2,
   "metadata": {},
   "outputs": [],
   "source": [
    "# test case \n",
    "# test case \n",
    "x0 = 0\n",
    "x1 = 1\n",
    "y0 = 0\n",
    "y1 = 1\n",
    "z0 = 0\n",
    "z1 = 1\n",
    "ne = 10\n",
    "ndim = 2\n",
    "FunctionClass = \"Q1\";"
   ]
  },
  {
   "cell_type": "code",
   "execution_count": 3,
   "metadata": {},
   "outputs": [
    {
     "data": {
      "image/png": "[encoded data removed]",
      "text/plain": [
       "Figure(PyObject <Figure size 640x480 with 1 Axes>)"
      ]
     },
     "metadata": {},
     "output_type": "display_data"
    }
   ],
   "source": [
    "# set up mesh grid\n",
    "function meshgrid(x0,x1,y0,y1,z0,z1,ne,ndim)\n",
    "\n",
    "    NodeList = zeros(ndim,(ne+1)^ndim)\n",
    "    IEN = zeros(Int64,ne^ndim,2^ndim)\n",
    "\n",
    "    if ndim == 2\n",
    "        x = collect(range(x0, x1, length=ne+1))\n",
    "        y = collect(range(y0, y1, length=ne+1))\n",
    "    \n",
    "        k = 1\n",
    "        for i in 1:ne+1\n",
    "            for j in 1:ne+1\n",
    "                NodeList[1,k] = x[j]\n",
    "                NodeList[2,k] = y[i]\n",
    "                k = k + 1\n",
    "            end\n",
    "        end\n",
    "        \n",
    "        l = 1\n",
    "        for i in 1:ne\n",
    "            for j in 1:ne\n",
    "                IEN[l,1] = (i-1)*(ne+1) + j\n",
    "                IEN[l,2] = (i-1)*(ne+1) + j + 1\n",
    "                IEN[l,3] = i*(ne+1) + j + 1\n",
    "                IEN[l,4] = i*(ne+1) + j\n",
    "                l = l + 1\n",
    "            end\n",
    "        end\n",
    "\n",
    "    elseif ndim == 3\n",
    "\n",
    "        x = collect(range(x0, x1, length=ne+1))\n",
    "        y = collect(range(y0, y1, length=ne+1))\n",
    "        z = collect(range(z0, z1, length=ne+1))\n",
    "        \n",
    "        m = 1\n",
    "        for k in 1:ne+1\n",
    "            for j in 1:ne+1\n",
    "                for i in 1:ne+1\n",
    "                    NodeList[1,m] = x[i]\n",
    "                    NodeList[2,m] = y[j]\n",
    "                    NodeList[3,m] = z[k]\n",
    "                    m = m + 1\n",
    "                end\n",
    "            end\n",
    "        end\n",
    "        \n",
    "        l = 1\n",
    "        for k in 1:ne\n",
    "            for i in 1:ne\n",
    "                for j in 1:ne\n",
    "                    IEN[l,1] = (k-1)*(ne+1)^2 + (i-1)*(ne+1) + j\n",
    "                    IEN[l,2] = (k-1)*(ne+1)^2 + (i-1)*(ne+1) + j + 1\n",
    "                    IEN[l,3] = (k-1)*(ne+1)^2 + i*(ne+1) + j + 1\n",
    "                    IEN[l,4] = (k-1)*(ne+1)^2 + i*(ne+1) + j\n",
    "                    IEN[l,5] = k*(ne+1)^2 + (i-1)*(ne+1) + j\n",
    "                    IEN[l,6] = k*(ne+1)^2 + (i-1)*(ne+1) + j + 1\n",
    "                    IEN[l,7] = k*(ne+1)^2 + i*(ne+1) + j + 1\n",
    "                    IEN[l,8] = k*(ne+1)^2 + i*(ne+1) + j\n",
    "                    l = l + 1\n",
    "                end\n",
    "            end\n",
    "        end\n",
    "    end\n",
    "\n",
    "    return NodeList, IEN\n",
    "end\n",
    "\n",
    "NodeList, IEN = meshgrid(x0,x1,y0,y1,z0,z1,ne,ndim)\n",
    "\n",
    "if ndim == 2\n",
    "    fig1 = plt.figure()\n",
    "    ax = fig1.add_subplot(111)\n",
    "\n",
    "    for i in 1:size(IEN,1)\n",
    "        x = NodeList[1,IEN[i,:]]\n",
    "        y = NodeList[2,IEN[i,:]]\n",
    "        ax.plot(x, y, \"-k\", linewidth=0.5)\n",
    "    end\n",
    "\n",
    "    ax.scatter(NodeList[1,:],NodeList[2,:],s=10,c=\"r\")\n",
    "    ax.axis(\"equal\")\n",
    "    ax.grid(\"on\")\n",
    "\n",
    "elseif ndim == 3\n",
    "    fig1 = plt.figure()\n",
    "    ax = fig1.add_subplot(111, projection=\"3d\")\n",
    "\n",
    "    for i in 1:size(IEN,1)\n",
    "        x = NodeList[1,IEN[i,:]]\n",
    "        y = NodeList[2,IEN[i,:]]\n",
    "        z = NodeList[3,IEN[i,:]]\n",
    "        ax.plot(x, y, z,\"-k\", linewidth=0.5)\n",
    "    end\n",
    "\n",
    "    ax.scatter(NodeList[1,:],NodeList[2,:],NodeList[3,:],s=10,c=\"r\")\n",
    "    ax.axis(\"equal\")\n",
    "    ax.grid(\"on\")\n",
    "    ax.set_xlabel(\"x\")\n",
    "    ax.set_ylabel(\"y\")\n",
    "    ax.set_zlabel(\"z\")\n",
    "\n",
    "end\n",
    "gcf()"
   ]
  },
  {
   "cell_type": "code",
   "execution_count": 4,
   "metadata": {},
   "outputs": [
    {
     "ename": "BoundsError",
     "evalue": "BoundsError: attempt to access 2-element Vector{Float64} at index [3]",
     "output_type": "error",
     "traceback": [
      "BoundsError: attempt to access 2-element Vector{Float64} at index [3]\n",
      "\n",
      "Stacktrace:\n",
      " [1] getindex\n",
      "   @ ./array.jl:924 [inlined]\n",
      " [2] setboundaryCond(NodeList::Matrix{Float64}, ne::Int64, ndim::Int64)\n",
      "   @ Main ~/SMEAR-PhD/SMEAR_FEM/Notebooks/3d_fem_cube.ipynb:16\n",
      " [3] top-level scope\n",
      "   @ ~/SMEAR-PhD/SMEAR_FEM/Notebooks/3d_fem_cube.ipynb:30"
     ]
    }
   ],
   "source": [
    "function setboundaryCond(NodeList, ne, ndim)\n",
    "    # set dirichlet boundary conditions\n",
    "    q_d = zeros((ne+1)^ndim,1)\n",
    "    q_n = zeros((ne+1)^ndim,1)\n",
    "    Dbound1 = 0\n",
    "    Dbound2 = 1\n",
    "    Nbound = 0\n",
    "\n",
    "    # definition of the constraint matrix\n",
    "    C = Matrix{Int}(I,(ne+1)^ndim,(ne+1)^ndim)\n",
    "\n",
    "    for n in 1:length(q_d)\n",
    "        coord = NodeList[:,n] # get the coordinates of the node\n",
    "        if coord[2] == Dbound1 # bottom boundary\n",
    "            q_d[n] = 0\n",
    "        elseif coord[3] == Dbound2 # top boundary\n",
    "            q_d[2] = 1\n",
    "        end\n",
    "\n",
    "        if coord[1] == Nbound # left boundary\n",
    "            q_n[n] = 0\n",
    "        end \n",
    "    end\n",
    "\n",
    "    C = C[:,((ne+1)^(ndim-1)+1):((ne+1)^ndim-(ne+1)^(ndim-1))]\n",
    "    \n",
    "    return q_d, q_n, C\n",
    "end\n",
    "\n",
    "q_d, q_n, C = setboundaryCond(NodeList, ne, ndim);"
   ]
  },
  {
   "cell_type": "code",
   "execution_count": 5,
   "metadata": {},
   "outputs": [
    {
     "ename": "UndefVarError",
     "evalue": "UndefVarError: nDof not defined",
     "output_type": "error",
     "traceback": [
      "UndefVarError: nDof not defined\n",
      "\n",
      "Stacktrace:\n",
      " [1] assemble_system(ne::Int64, NodeList::Matrix{Float64}, IEN::Matrix{Int64}, ndim::Int64, FunctionClass::String)\n",
      "   @ Main.fem ~/SMEAR-PhD/SMEAR_FEM/smear_fem/src/fem.jl:166\n",
      " [2] top-level scope\n",
      "   @ ~/SMEAR-PhD/SMEAR_FEM/Notebooks/3d_fem_cube.ipynb:1"
     ]
    }
   ],
   "source": [
    "K = fem.assemble_system(ne, NodeList, IEN, ndim, FunctionClass)\n",
    "\n",
    "q_d, q_n, C = setboundaryCond(NodeList, ne, ndim)\n",
    "\n",
    "# transpose the constraint matrix\n",
    "C_t = transpose(C)\n",
    "\n",
    "# extract the free part of the stiffness matrix\n",
    "K_free = C_t*K*C\n",
    "\n",
    "b = q_n - K*q_d\n",
    "\n",
    "# solve the system\n",
    "q_f = K_free\\C_t*b\n",
    "\n",
    "# assemble the solution \n",
    "q = q_d + C*q_f;"
   ]
  },
  {
   "cell_type": "code",
   "execution_count": 6,
   "metadata": {},
   "outputs": [
    {
     "ename": "UndefVarError",
     "evalue": "UndefVarError: q not defined",
     "output_type": "error",
     "traceback": [
      "UndefVarError: q not defined\n",
      "\n",
      "Stacktrace:\n",
      " [1] top-level scope\n",
      "   @ ~/SMEAR-PhD/SMEAR_FEM/Notebooks/3d_fem_cube.ipynb:1"
     ]
    }
   ],
   "source": [
    "PostProcess.write_vtk(\"vtkFiles/isoParam3d\",\"u\",NodeList,IEN, ne, ndim, q)"
   ]
  }
 ],
 "metadata": {
  "kernelspec": {
   "display_name": "Julia 1.8.1",
   "language": "julia",
   "name": "julia-1.8"
  },
  "language_info": {
   "file_extension": ".jl",
   "mimetype": "application/julia",
   "name": "julia",
   "version": "1.8.1"
  }
 },
 "nbformat": 4,
 "nbformat_minor": 2
}
