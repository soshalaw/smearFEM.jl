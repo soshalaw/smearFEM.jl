{
 "cells": [
  {
   "cell_type": "code",
   "execution_count": 1,
   "metadata": {},
   "outputs": [
    {
     "data": {
      "text/plain": [
       "Main.PostProcess"
      ]
     },
     "metadata": {},
     "output_type": "display_data"
    }
   ],
   "source": [
    "# using Plots\n",
    "using LinearAlgebra\n",
    "using PyPlot\n",
    "\n",
    "include(\"../smear_fem/src/fem.jl\")\n",
    "include(\"../smear_fem/src/PostProcess.jl\")"
   ]
  },
  {
   "cell_type": "code",
   "execution_count": 2,
   "metadata": {},
   "outputs": [],
   "source": [
    "# test case \n",
    "x0 = 0\n",
    "x1 = 1\n",
    "y0 = 0\n",
    "y1 = 1\n",
    "ne = 10\n",
    "h = (x1 - x0) / ne\n",
    "ndim = 2\n",
    "FunctionClass = \"Q2\";"
   ]
  },
  {
   "cell_type": "code",
   "execution_count": 3,
   "metadata": {},
   "outputs": [
    {
     "data": {
      "text/plain": [
       "meshgrid (generic function with 3 methods)"
      ]
     },
     "metadata": {},
     "output_type": "display_data"
    }
   ],
   "source": [
    "function meshgrid(ne,FunctionClass,x0,x1,y0,y1,z0=nothing,z1=nothing)\n",
    "    if !isnothing(y0) && !isnothing(y1)\n",
    "        if FunctionClass == \"Q1\"\n",
    "            x = collect(range(x0, x1, length=ne+1))\n",
    "            y = collect(range(y0, y1, length=ne+1))\n",
    "            \n",
    "            NodeList = zeros(2,(ne+1)*(ne+1))\n",
    "    \n",
    "            k = 1\n",
    "            for i in 1:ne+1\n",
    "                for j in 1:ne+1\n",
    "                    NodeList[1,k] = x[j]\n",
    "                    NodeList[2,k] = y[i]\n",
    "                    k = k + 1\n",
    "                end\n",
    "            end\n",
    "    \n",
    "            IEN = zeros(Int64,ne*ne,4)\n",
    "            \n",
    "            l = 1\n",
    "            for i in 1:ne\n",
    "                for j in 1:ne\n",
    "                    IEN[l,1] = (i-1)*(ne+1) + j\n",
    "                    IEN[l,2] = (i-1)*(ne+1) + j + 1\n",
    "                    IEN[l,3] = i*(ne+1) + j + 1\n",
    "                    IEN[l,4] = i*(ne+1) + j\n",
    "                    l = l + 1\n",
    "                end\n",
    "            end\n",
    "        elseif FunctionClass == \"Q2\"\n",
    "            x = collect(range(x0, x1, length=2*ne+1))\n",
    "            y = collect(range(y0, y1, length=2*ne+1))\n",
    "            \n",
    "            NodeList = zeros(2,(2*ne+1)*(2*ne+1))\n",
    "    \n",
    "            k = 1\n",
    "            for i in 1:2*ne+1\n",
    "                for j in 1:2*ne+1\n",
    "                    NodeList[1,k] = x[j]\n",
    "                    NodeList[2,k] = y[i]\n",
    "                    k = k + 1\n",
    "                end\n",
    "            end\n",
    "    \n",
    "            IEN = zeros(Int64,ne*ne,9)\n",
    "            \n",
    "            l = 1\n",
    "            for i in 1:ne\n",
    "                for j in 1:ne\n",
    "                    IEN[l,1] = 2*(i-1)*(2*ne+1) + 2*j - 1\n",
    "                    IEN[l,2] = 2*(i-1)*(2*ne+1) + 2*j + 1\n",
    "                    IEN[l,3] = 2*i*(2*ne+1) + 2*j + 1\n",
    "                    IEN[l,4] = 2*i*(2*ne+1) + 2*j - 1\n",
    "                    IEN[l,5] = 2*(i-1)*(2*ne+1) + 2*j\n",
    "                    IEN[l,6] = (2*i-1)*(2*ne+1) + 2*j + 1\n",
    "                    IEN[l,7] = 2*i*(2*ne+1) + 2*j\n",
    "                    IEN[l,8] = (2*i-1)*(2*ne+1) + 2*j - 1\n",
    "                    IEN[l,9] = (2*i-1)*(2*ne+1) + 2*j\n",
    "                    l = l + 1\n",
    "                end\n",
    "            end \n",
    "        end\n",
    "    end\n",
    "    \n",
    "    return NodeList, IEN\n",
    "end"
   ]
  },
  {
   "cell_type": "code",
   "execution_count": 4,
   "metadata": {},
   "outputs": [
    {
     "data": {
      "image/png": "[encoded data removed]",
      "text/plain": [
       "Figure(PyObject <Figure size 640x480 with 1 Axes>)"
      ]
     },
     "metadata": {},
     "output_type": "display_data"
    }
   ],
   "source": [
    "# set up mesh grid\n",
    "NodeList, IEN = meshgrid(ne,FunctionClass,x0,x1,y0,y1)\n",
    "\n",
    "fig1 = plt.figure()\n",
    "ax = fig1.add_subplot(111)\n",
    "\n",
    "for i in 1:size(IEN,1)\n",
    "    x = NodeList[1,IEN[i,1:4]]\n",
    "    y = NodeList[2,IEN[i,1:4]]\n",
    "    ax.plot(x, y, \"-k\", linewidth=0.5)\n",
    "end\n",
    "\n",
    "ax.scatter(NodeList[1,:],NodeList[2,:],s=10,c=\"r\")\n",
    "ax.axis(\"equal\")\n",
    "ax.grid(\"on\")\n",
    "\n",
    "gcf()"
   ]
  },
  {
   "cell_type": "code",
   "execution_count": 5,
   "metadata": {},
   "outputs": [],
   "source": [
    "function setboundaryCond(NodeList, ne, ndim, FunctionClass)\n",
    "    # set dirichlet boundary conditions\n",
    "\n",
    "    if FunctionClass == \"Q1\"\n",
    "        q_d = zeros((ne+1)^ndim,1)\n",
    "        q_n = zeros((ne+1)^ndim,1)\n",
    "\n",
    "        C = Matrix{Int}(I,(ne+1)^ndim,(ne+1)^ndim) # definition of the constraint matrix\n",
    "\n",
    "        C = C[:,((ne+1)^(ndim-1)+1):((ne+1)^ndim-(ne+1)^(ndim-1))]\n",
    "    elseif FunctionClass == \"Q2\"\n",
    "        q_d = zeros((2*ne+1)^ndim,1)\n",
    "        q_n = zeros((2*ne+1)^ndim,1)\n",
    "\n",
    "        C = Matrix{Int}(I,(2*ne+1)^ndim,(2*ne+1)^ndim) # definition of the constraint matrix\n",
    "        C = C[:,((2*ne+1)^(ndim-1)+1):((2*ne+1)^ndim-(2*ne+1)^(ndim-1))]\n",
    "    end\n",
    "\n",
    "    Dbound1 = 0\n",
    "    Dbound2 = 1\n",
    "    Nbound = 0\n",
    "\n",
    "    for n in 1:length(q_d)\n",
    "        coord = NodeList[:,n] # get the coordinates of the node\n",
    "        if coord[2] == Dbound1 # bottom boundary\n",
    "            q_d[n] = 0\n",
    "        elseif coord[2] == Dbound2 # top boundary\n",
    "            q_d[n] = 1\n",
    "        end\n",
    "\n",
    "        if coord[1] == Nbound # left boundary\n",
    "            q_n[n] = 0\n",
    "        end \n",
    "    end\n",
    "        \n",
    "    return q_d, q_n, C\n",
    "end\n",
    "\n",
    "q_d, q_n, C = setboundaryCond(NodeList, ne, ndim, FunctionClass);"
   ]
  },
  {
   "cell_type": "code",
   "execution_count": 6,
   "metadata": {},
   "outputs": [],
   "source": [
    "K = fem.assemble_system(ne, NodeList, IEN, ndim, FunctionClass)\n",
    "\n",
    "q_d, q_n, C = setboundaryCond(NodeList, ne, ndim, FunctionClass);\n",
    "\n",
    "# transpose the constraint matrix\n",
    "C_t = transpose(C)\n",
    "\n",
    "# extract the free part of the stiffness matrix\n",
    "K_free = C_t*K*C\n",
    "\n",
    "b = q_n - K*q_d\n",
    "\n",
    "# solve the system\n",
    "q_f = K_free\\C_t*b\n",
    "\n",
    "# assemble the solution \n",
    "q = q_d + C*q_f;"
   ]
  },
  {
   "cell_type": "code",
   "execution_count": 7,
   "metadata": {},
   "outputs": [
    {
     "data": {
      "text/plain": [
       "rearrange (generic function with 1 method)"
      ]
     },
     "metadata": {},
     "output_type": "display_data"
    }
   ],
   "source": [
    "function rearrange(q, ne, ndim, IEN, FunctionClass) \n",
    "    \n",
    "    if FunctionClass == \"Q1\"\n",
    "        return q, IEN\n",
    "    elseif FunctionClass == \"Q2\"\n",
    "        q_new = zeros((ne+1)^ndim,1)\n",
    "        IEN_new = zeros(Int64,ne*ne,4)\n",
    "        for i in 1:ne+1\n",
    "            for j in 1:ne+1\n",
    "                q_new[(i-1)*(ne+1)+j] = q[2*(i-1)*(2*ne+1) + (2*j-1)]\n",
    "            end\n",
    "        end\n",
    "\n",
    "        for e in 1:ne*ne\n",
    "            IEN_new[e,:] = IEN[e,1:4]\n",
    "        end\n",
    "        return q_new, IEN_new\n",
    "    end\n",
    "end"
   ]
  },
  {
   "cell_type": "code",
   "execution_count": 8,
   "metadata": {},
   "outputs": [],
   "source": [
    "q_new, IEN_new = rearrange(q, ne, ndim, IEN, FunctionClass);"
   ]
  },
  {
   "cell_type": "code",
   "execution_count": 9,
   "metadata": {},
   "outputs": [
    {
     "data": {
      "image/png": "[encoded data removed]",
      "text/plain": [
       "Figure(PyObject <Figure size 640x480 with 1 Axes>)"
      ]
     },
     "metadata": {},
     "output_type": "display_data"
    }
   ],
   "source": [
    "fig2 = plt.figure()\n",
    "ax = fig2.add_subplot(111)\n",
    "qList = PostProcess.noramlize(q, IEN_new)\n",
    "\n",
    "for i in 1:size(IEN_new,1)\n",
    "    x = NodeList[1,IEN_new[i,:]]\n",
    "    y = NodeList[2,IEN_new[i,:]]\n",
    "    c = qList[i,:]\n",
    "    cmap = PostProcess.truncate_colormap(maximum(c), minimum(c))\n",
    "    ax.tripcolor(x, y, c, cmap=cmap,shading=\"gouraud\" )\n",
    "    ax.plot(x, y, \"-k\", linewidth=0.5)\n",
    "end\n",
    "\n",
    "ax.axis(\"equal\")\n",
    "gcf()"
   ]
  },
  {
   "cell_type": "code",
   "execution_count": 11,
   "metadata": {},
   "outputs": [
    {
     "data": {
      "text/plain": [
       "1-element Vector{String}:\n",
       " \"vtkFiles/isoParam2dLagrange.vtu\""
      ]
     },
     "metadata": {},
     "output_type": "display_data"
    }
   ],
   "source": [
    "PostProcess.write_vtk(\"vtkFiles/isoParam2dLagrange\",\"u\",NodeList,IEN_new, ne, ndim, q)"
   ]
  }
 ],
 "metadata": {
  "kernelspec": {
   "display_name": "Julia 1.8.1",
   "language": "julia",
   "name": "julia-1.8"
  },
  "language_info": {
   "file_extension": ".jl",
   "mimetype": "application/julia",
   "name": "julia",
   "version": "1.8.1"
  }
 },
 "nbformat": 4,
 "nbformat_minor": 2
}
